{
 "cells": [
  {
   "cell_type": "markdown",
   "metadata": {},
   "source": [
    "1.. 编码与`print`函\n",
    "\n",
    "在平时的使用中并不常用转码，但是需要了解`python`中字符是如何表现的数\n",
    "在平时的使用中，并不常用\n",
    "\n",
    "2 [跳转](#测试)\n",
    "\n",
    "\n",
    "# 测试"
   ]
  },
  {
   "cell_type": "code",
   "execution_count": 2,
   "metadata": {},
   "outputs": [
    {
     "output_type": "stream",
     "name": "stdout",
     "text": "Hello 世界\n20013\n文\n"
    }
   ],
   "source": [
    "print('Hello 世界')\n",
    "print(ord('中'))\n",
    "print(chr(25991))"
   ]
  }
 ],
 "metadata": {
  "language_info": {
   "codemirror_mode": {
    "name": "ipython",
    "version": 3
   },
   "file_extension": ".py",
   "mimetype": "text/x-python",
   "name": "python",
   "nbconvert_exporter": "python",
   "pygments_lexer": "ipython3",
   "version": "3.7.7-final"
  },
  "orig_nbformat": 2,
  "kernelspec": {
   "name": "python3",
   "display_name": "Python 3"
  }
 },
 "nbformat": 4,
 "nbformat_minor": 2
}